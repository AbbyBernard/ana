{
 "cells": [
  {
   "cell_type": "markdown",
   "metadata": {
    "id": "n8aX0TlT2SPH"
   },
   "source": [
    "# Class Activity\n",
    "\n",
    "Build a Regression Machine Learning Model using Mama Tee restaurant dataset.\n",
    "The objective of the regression task is to predict the amount of tip (gratuity in Nigeria naira) given to a food server based on total_bill, gender, smoker (whether they smoke in the party or not), day (day of the week for the party), time (time of the day whether for lunch or dinner), and size (size of the party) in Mama Tee restaurant.\n",
    "\n",
    "#### TODO\n",
    "- Get the dataset from your AI Invasion Study Pack: \"Tips.csv\""
   ]
  },
  {
   "cell_type": "markdown",
   "metadata": {
    "id": "CdGXMD7L2kU8"
   },
   "source": [
    "### Step #1 Importing the required libraries"
   ]
  },
  {
   "cell_type": "code",
   "execution_count": 1,
   "metadata": {
    "id": "G4VZRosezc-n"
   },
   "outputs": [],
   "source": [
    "import pandas as pd\n",
    "import numpy as np\n",
    "\n",
    "import matplotlib.pyplot as plt\n",
    "import seaborn\n",
    "import sklearn\n",
    "\n",
    "from sklearn.preprocessing import OneHotEncoder\n",
    "from sklearn.model_selection import train_test_split"
   ]
  },
  {
   "cell_type": "markdown",
   "metadata": {
    "id": "g2ywe7zs2sNy"
   },
   "source": [
    "### Step#2 Loading the dataset"
   ]
  },
  {
   "cell_type": "code",
   "execution_count": 2,
   "metadata": {
    "id": "p19bU5hG5OAE"
   },
   "outputs": [
    {
     "data": {
      "text/html": [
       "<div>\n",
       "<style scoped>\n",
       "    .dataframe tbody tr th:only-of-type {\n",
       "        vertical-align: middle;\n",
       "    }\n",
       "\n",
       "    .dataframe tbody tr th {\n",
       "        vertical-align: top;\n",
       "    }\n",
       "\n",
       "    .dataframe thead th {\n",
       "        text-align: right;\n",
       "    }\n",
       "</style>\n",
       "<table border=\"1\" class=\"dataframe\">\n",
       "  <thead>\n",
       "    <tr style=\"text-align: right;\">\n",
       "      <th></th>\n",
       "      <th>total_bill</th>\n",
       "      <th>tip</th>\n",
       "      <th>gender</th>\n",
       "      <th>smoker</th>\n",
       "      <th>day</th>\n",
       "      <th>time</th>\n",
       "      <th>size</th>\n",
       "    </tr>\n",
       "  </thead>\n",
       "  <tbody>\n",
       "    <tr>\n",
       "      <th>0</th>\n",
       "      <td>2125.50</td>\n",
       "      <td>360.79</td>\n",
       "      <td>Male</td>\n",
       "      <td>No</td>\n",
       "      <td>Thur</td>\n",
       "      <td>Lunch</td>\n",
       "      <td>1</td>\n",
       "    </tr>\n",
       "    <tr>\n",
       "      <th>1</th>\n",
       "      <td>2727.18</td>\n",
       "      <td>259.42</td>\n",
       "      <td>Female</td>\n",
       "      <td>No</td>\n",
       "      <td>Sun</td>\n",
       "      <td>Dinner</td>\n",
       "      <td>5</td>\n",
       "    </tr>\n",
       "    <tr>\n",
       "      <th>2</th>\n",
       "      <td>1066.02</td>\n",
       "      <td>274.68</td>\n",
       "      <td>Female</td>\n",
       "      <td>Yes</td>\n",
       "      <td>Thur</td>\n",
       "      <td>Dinner</td>\n",
       "      <td>4</td>\n",
       "    </tr>\n",
       "    <tr>\n",
       "      <th>3</th>\n",
       "      <td>3493.45</td>\n",
       "      <td>337.90</td>\n",
       "      <td>Female</td>\n",
       "      <td>No</td>\n",
       "      <td>Sun</td>\n",
       "      <td>Dinner</td>\n",
       "      <td>1</td>\n",
       "    </tr>\n",
       "    <tr>\n",
       "      <th>4</th>\n",
       "      <td>3470.56</td>\n",
       "      <td>567.89</td>\n",
       "      <td>Male</td>\n",
       "      <td>Yes</td>\n",
       "      <td>Sun</td>\n",
       "      <td>Lunch</td>\n",
       "      <td>6</td>\n",
       "    </tr>\n",
       "  </tbody>\n",
       "</table>\n",
       "</div>"
      ],
      "text/plain": [
       "   total_bill     tip  gender smoker   day    time  size\n",
       "0     2125.50  360.79    Male     No  Thur   Lunch     1\n",
       "1     2727.18  259.42  Female     No   Sun  Dinner     5\n",
       "2     1066.02  274.68  Female    Yes  Thur  Dinner     4\n",
       "3     3493.45  337.90  Female     No   Sun  Dinner     1\n",
       "4     3470.56  567.89    Male    Yes   Sun   Lunch     6"
      ]
     },
     "execution_count": 2,
     "metadata": {},
     "output_type": "execute_result"
    }
   ],
   "source": [
    "\n",
    "df = pd.read_csv(\"tips.csv\") #TODO: Add the path to your dataset \n",
    "\n",
    "df.head()"
   ]
  },
  {
   "cell_type": "code",
   "execution_count": 3,
   "metadata": {
    "id": "ThnQmnZ47PbA"
   },
   "outputs": [
    {
     "name": "stdout",
     "output_type": "stream",
     "text": [
      "<class 'pandas.core.frame.DataFrame'>\n",
      "RangeIndex: 744 entries, 0 to 743\n",
      "Data columns (total 7 columns):\n",
      " #   Column      Non-Null Count  Dtype  \n",
      "---  ------      --------------  -----  \n",
      " 0   total_bill  744 non-null    float64\n",
      " 1   tip         744 non-null    float64\n",
      " 2   gender      744 non-null    object \n",
      " 3   smoker      744 non-null    object \n",
      " 4   day         744 non-null    object \n",
      " 5   time        744 non-null    object \n",
      " 6   size        744 non-null    int64  \n",
      "dtypes: float64(2), int64(1), object(4)\n",
      "memory usage: 40.8+ KB\n"
     ]
    }
   ],
   "source": [
    "df.info()"
   ]
  },
  {
   "cell_type": "code",
   "execution_count": 4,
   "metadata": {
    "id": "-USL_ka97S-i"
   },
   "outputs": [
    {
     "data": {
      "text/html": [
       "<div>\n",
       "<style scoped>\n",
       "    .dataframe tbody tr th:only-of-type {\n",
       "        vertical-align: middle;\n",
       "    }\n",
       "\n",
       "    .dataframe tbody tr th {\n",
       "        vertical-align: top;\n",
       "    }\n",
       "\n",
       "    .dataframe thead th {\n",
       "        text-align: right;\n",
       "    }\n",
       "</style>\n",
       "<table border=\"1\" class=\"dataframe\">\n",
       "  <thead>\n",
       "    <tr style=\"text-align: right;\">\n",
       "      <th></th>\n",
       "      <th>total_bill</th>\n",
       "      <th>tip</th>\n",
       "      <th>size</th>\n",
       "    </tr>\n",
       "  </thead>\n",
       "  <tbody>\n",
       "    <tr>\n",
       "      <th>count</th>\n",
       "      <td>744.000000</td>\n",
       "      <td>744.000000</td>\n",
       "      <td>744.000000</td>\n",
       "    </tr>\n",
       "    <tr>\n",
       "      <th>mean</th>\n",
       "      <td>2165.006640</td>\n",
       "      <td>325.948091</td>\n",
       "      <td>3.180108</td>\n",
       "    </tr>\n",
       "    <tr>\n",
       "      <th>std</th>\n",
       "      <td>954.248806</td>\n",
       "      <td>148.778225</td>\n",
       "      <td>1.532890</td>\n",
       "    </tr>\n",
       "    <tr>\n",
       "      <th>min</th>\n",
       "      <td>44.690000</td>\n",
       "      <td>0.000000</td>\n",
       "      <td>1.000000</td>\n",
       "    </tr>\n",
       "    <tr>\n",
       "      <th>25%</th>\n",
       "      <td>1499.022500</td>\n",
       "      <td>218.000000</td>\n",
       "      <td>2.000000</td>\n",
       "    </tr>\n",
       "    <tr>\n",
       "      <th>50%</th>\n",
       "      <td>2102.610000</td>\n",
       "      <td>320.460000</td>\n",
       "      <td>3.000000</td>\n",
       "    </tr>\n",
       "    <tr>\n",
       "      <th>75%</th>\n",
       "      <td>2743.802500</td>\n",
       "      <td>415.562500</td>\n",
       "      <td>4.000000</td>\n",
       "    </tr>\n",
       "    <tr>\n",
       "      <th>max</th>\n",
       "      <td>5538.290000</td>\n",
       "      <td>1090.000000</td>\n",
       "      <td>6.000000</td>\n",
       "    </tr>\n",
       "  </tbody>\n",
       "</table>\n",
       "</div>"
      ],
      "text/plain": [
       "        total_bill          tip        size\n",
       "count   744.000000   744.000000  744.000000\n",
       "mean   2165.006640   325.948091    3.180108\n",
       "std     954.248806   148.778225    1.532890\n",
       "min      44.690000     0.000000    1.000000\n",
       "25%    1499.022500   218.000000    2.000000\n",
       "50%    2102.610000   320.460000    3.000000\n",
       "75%    2743.802500   415.562500    4.000000\n",
       "max    5538.290000  1090.000000    6.000000"
      ]
     },
     "execution_count": 4,
     "metadata": {},
     "output_type": "execute_result"
    }
   ],
   "source": [
    "df.describe()"
   ]
  },
  {
   "cell_type": "markdown",
   "metadata": {
    "id": "15nTlkOA2taM"
   },
   "source": [
    "### Step#3 Clean the dataset"
   ]
  },
  {
   "cell_type": "code",
   "execution_count": 5,
   "metadata": {
    "id": "mhyS3Hwl7kl8"
   },
   "outputs": [
    {
     "data": {
      "text/plain": [
       "Index(['total_bill', 'tip', 'gender', 'smoker', 'day', 'time', 'size'], dtype='object')"
      ]
     },
     "execution_count": 5,
     "metadata": {},
     "output_type": "execute_result"
    }
   ],
   "source": [
    "df.columns"
   ]
  },
  {
   "cell_type": "code",
   "execution_count": 6,
   "metadata": {
    "id": "58edY_mw8O7U"
   },
   "outputs": [
    {
     "data": {
      "text/plain": [
       "total_bill    0\n",
       "tip           0\n",
       "gender        0\n",
       "smoker        0\n",
       "day           0\n",
       "time          0\n",
       "size          0\n",
       "dtype: int64"
      ]
     },
     "execution_count": 6,
     "metadata": {},
     "output_type": "execute_result"
    }
   ],
   "source": [
    "# Check for missing value\n",
    "df.isnull().sum()"
   ]
  },
  {
   "cell_type": "code",
   "execution_count": 7,
   "metadata": {
    "id": "vUqvbUWy89L4"
   },
   "outputs": [
    {
     "data": {
      "text/plain": [
       "total_bill    0\n",
       "tip           0\n",
       "gender        0\n",
       "smoker        0\n",
       "day           0\n",
       "time          0\n",
       "size          0\n",
       "dtype: int64"
      ]
     },
     "execution_count": 7,
     "metadata": {},
     "output_type": "execute_result"
    }
   ],
   "source": [
    "# Check and make sure all missing valuen have been filled\n",
    "df.isnull().sum()"
   ]
  },
  {
   "cell_type": "code",
   "execution_count": 8,
   "metadata": {},
   "outputs": [
    {
     "name": "stdout",
     "output_type": "stream",
     "text": [
      "gender:['Male' 'Female']\n",
      "##################################################\n",
      "time:['Lunch' 'Dinner']\n",
      "##################################################\n",
      "day:['Thur' 'Sun' 'Mon' 'Sat' 'Wed' 'Tues' 'Fri']\n",
      "##################################################\n",
      "smoker:['No' 'Yes']\n",
      "##################################################\n"
     ]
    }
   ],
   "source": [
    "cat_features = {\n",
    "    \"gender\",\n",
    "    \"smoker\",\n",
    "    \"day\",\n",
    "    \"time\",\n",
    "    \n",
    "}\n",
    "\n",
    "for cat_feature in cat_features:\n",
    "    print(cat_feature,df[cat_feature].unique(), sep=\":\")\n",
    "    print(\"#\"*50)"
   ]
  },
  {
   "cell_type": "code",
   "execution_count": 9,
   "metadata": {},
   "outputs": [
    {
     "data": {
      "text/html": [
       "<div>\n",
       "<style scoped>\n",
       "    .dataframe tbody tr th:only-of-type {\n",
       "        vertical-align: middle;\n",
       "    }\n",
       "\n",
       "    .dataframe tbody tr th {\n",
       "        vertical-align: top;\n",
       "    }\n",
       "\n",
       "    .dataframe thead th {\n",
       "        text-align: right;\n",
       "    }\n",
       "</style>\n",
       "<table border=\"1\" class=\"dataframe\">\n",
       "  <thead>\n",
       "    <tr style=\"text-align: right;\">\n",
       "      <th></th>\n",
       "      <th>total_bill</th>\n",
       "      <th>tip</th>\n",
       "      <th>gender</th>\n",
       "      <th>smoker</th>\n",
       "      <th>day</th>\n",
       "      <th>time</th>\n",
       "      <th>size</th>\n",
       "      <th>gender_cat</th>\n",
       "      <th>smoker_cat</th>\n",
       "      <th>day_cat</th>\n",
       "      <th>time_cat</th>\n",
       "    </tr>\n",
       "  </thead>\n",
       "  <tbody>\n",
       "    <tr>\n",
       "      <th>0</th>\n",
       "      <td>2125.50</td>\n",
       "      <td>360.79</td>\n",
       "      <td>Male</td>\n",
       "      <td>No</td>\n",
       "      <td>Thur</td>\n",
       "      <td>Lunch</td>\n",
       "      <td>1</td>\n",
       "      <td>1</td>\n",
       "      <td>0</td>\n",
       "      <td>4</td>\n",
       "      <td>1</td>\n",
       "    </tr>\n",
       "    <tr>\n",
       "      <th>1</th>\n",
       "      <td>2727.18</td>\n",
       "      <td>259.42</td>\n",
       "      <td>Female</td>\n",
       "      <td>No</td>\n",
       "      <td>Sun</td>\n",
       "      <td>Dinner</td>\n",
       "      <td>5</td>\n",
       "      <td>0</td>\n",
       "      <td>0</td>\n",
       "      <td>3</td>\n",
       "      <td>0</td>\n",
       "    </tr>\n",
       "    <tr>\n",
       "      <th>2</th>\n",
       "      <td>1066.02</td>\n",
       "      <td>274.68</td>\n",
       "      <td>Female</td>\n",
       "      <td>Yes</td>\n",
       "      <td>Thur</td>\n",
       "      <td>Dinner</td>\n",
       "      <td>4</td>\n",
       "      <td>0</td>\n",
       "      <td>1</td>\n",
       "      <td>4</td>\n",
       "      <td>0</td>\n",
       "    </tr>\n",
       "    <tr>\n",
       "      <th>3</th>\n",
       "      <td>3493.45</td>\n",
       "      <td>337.90</td>\n",
       "      <td>Female</td>\n",
       "      <td>No</td>\n",
       "      <td>Sun</td>\n",
       "      <td>Dinner</td>\n",
       "      <td>1</td>\n",
       "      <td>0</td>\n",
       "      <td>0</td>\n",
       "      <td>3</td>\n",
       "      <td>0</td>\n",
       "    </tr>\n",
       "    <tr>\n",
       "      <th>4</th>\n",
       "      <td>3470.56</td>\n",
       "      <td>567.89</td>\n",
       "      <td>Male</td>\n",
       "      <td>Yes</td>\n",
       "      <td>Sun</td>\n",
       "      <td>Lunch</td>\n",
       "      <td>6</td>\n",
       "      <td>1</td>\n",
       "      <td>1</td>\n",
       "      <td>3</td>\n",
       "      <td>1</td>\n",
       "    </tr>\n",
       "  </tbody>\n",
       "</table>\n",
       "</div>"
      ],
      "text/plain": [
       "   total_bill     tip  gender smoker   day    time  size  gender_cat  \\\n",
       "0     2125.50  360.79    Male     No  Thur   Lunch     1           1   \n",
       "1     2727.18  259.42  Female     No   Sun  Dinner     5           0   \n",
       "2     1066.02  274.68  Female    Yes  Thur  Dinner     4           0   \n",
       "3     3493.45  337.90  Female     No   Sun  Dinner     1           0   \n",
       "4     3470.56  567.89    Male    Yes   Sun   Lunch     6           1   \n",
       "\n",
       "   smoker_cat  day_cat  time_cat  \n",
       "0           0        4         1  \n",
       "1           0        3         0  \n",
       "2           1        4         0  \n",
       "3           0        3         0  \n",
       "4           1        3         1  "
      ]
     },
     "execution_count": 9,
     "metadata": {},
     "output_type": "execute_result"
    }
   ],
   "source": [
    "cat_features = [\"gender\",\"smoker\",\"day\",\"time\"]\n",
    "\n",
    "for cat_feature in cat_features:\n",
    "    df[f\"{cat_feature}_cat\"] = df[cat_feature].astype('category')\n",
    "    df[f\"{cat_feature}_cat\"] = df[f\"{cat_feature}_cat\"].cat.codes\n",
    "    \n",
    "    \n",
    "#Read more on Pandas get_dummies\n",
    "\n",
    "df.head()"
   ]
  },
  {
   "cell_type": "code",
   "execution_count": 38,
   "metadata": {},
   "outputs": [
    {
     "data": {
      "text/html": [
       "<div>\n",
       "<style scoped>\n",
       "    .dataframe tbody tr th:only-of-type {\n",
       "        vertical-align: middle;\n",
       "    }\n",
       "\n",
       "    .dataframe tbody tr th {\n",
       "        vertical-align: top;\n",
       "    }\n",
       "\n",
       "    .dataframe thead th {\n",
       "        text-align: right;\n",
       "    }\n",
       "</style>\n",
       "<table border=\"1\" class=\"dataframe\">\n",
       "  <thead>\n",
       "    <tr style=\"text-align: right;\">\n",
       "      <th></th>\n",
       "      <th>total_bill</th>\n",
       "      <th>size</th>\n",
       "      <th>gender_cat</th>\n",
       "      <th>smoker_cat</th>\n",
       "      <th>day_cat</th>\n",
       "      <th>time_cat</th>\n",
       "    </tr>\n",
       "  </thead>\n",
       "  <tbody>\n",
       "    <tr>\n",
       "      <th>0</th>\n",
       "      <td>2125.50</td>\n",
       "      <td>1</td>\n",
       "      <td>1</td>\n",
       "      <td>0</td>\n",
       "      <td>4</td>\n",
       "      <td>1</td>\n",
       "    </tr>\n",
       "    <tr>\n",
       "      <th>1</th>\n",
       "      <td>2727.18</td>\n",
       "      <td>5</td>\n",
       "      <td>0</td>\n",
       "      <td>0</td>\n",
       "      <td>3</td>\n",
       "      <td>0</td>\n",
       "    </tr>\n",
       "    <tr>\n",
       "      <th>2</th>\n",
       "      <td>1066.02</td>\n",
       "      <td>4</td>\n",
       "      <td>0</td>\n",
       "      <td>1</td>\n",
       "      <td>4</td>\n",
       "      <td>0</td>\n",
       "    </tr>\n",
       "    <tr>\n",
       "      <th>3</th>\n",
       "      <td>3493.45</td>\n",
       "      <td>1</td>\n",
       "      <td>0</td>\n",
       "      <td>0</td>\n",
       "      <td>3</td>\n",
       "      <td>0</td>\n",
       "    </tr>\n",
       "    <tr>\n",
       "      <th>4</th>\n",
       "      <td>3470.56</td>\n",
       "      <td>6</td>\n",
       "      <td>1</td>\n",
       "      <td>1</td>\n",
       "      <td>3</td>\n",
       "      <td>1</td>\n",
       "    </tr>\n",
       "  </tbody>\n",
       "</table>\n",
       "</div>"
      ],
      "text/plain": [
       "   total_bill  size  gender_cat  smoker_cat  day_cat  time_cat\n",
       "0     2125.50     1           1           0        4         1\n",
       "1     2727.18     5           0           0        3         0\n",
       "2     1066.02     4           0           1        4         0\n",
       "3     3493.45     1           0           0        3         0\n",
       "4     3470.56     6           1           1        3         1"
      ]
     },
     "execution_count": 38,
     "metadata": {},
     "output_type": "execute_result"
    }
   ],
   "source": [
    "df.drop(\"tip\", axis=1, inplace=True)\n",
    "df.head()"
   ]
  },
  {
   "cell_type": "code",
   "execution_count": 11,
   "metadata": {},
   "outputs": [
    {
     "data": {
      "text/html": [
       "<div>\n",
       "<style scoped>\n",
       "    .dataframe tbody tr th:only-of-type {\n",
       "        vertical-align: middle;\n",
       "    }\n",
       "\n",
       "    .dataframe tbody tr th {\n",
       "        vertical-align: top;\n",
       "    }\n",
       "\n",
       "    .dataframe thead th {\n",
       "        text-align: right;\n",
       "    }\n",
       "</style>\n",
       "<table border=\"1\" class=\"dataframe\">\n",
       "  <thead>\n",
       "    <tr style=\"text-align: right;\">\n",
       "      <th></th>\n",
       "      <th>total_bill</th>\n",
       "      <th>tip</th>\n",
       "      <th>gender</th>\n",
       "      <th>day</th>\n",
       "      <th>time</th>\n",
       "      <th>size</th>\n",
       "      <th>gender_cat</th>\n",
       "      <th>smoker_cat</th>\n",
       "      <th>day_cat</th>\n",
       "      <th>time_cat</th>\n",
       "    </tr>\n",
       "  </thead>\n",
       "  <tbody>\n",
       "    <tr>\n",
       "      <th>0</th>\n",
       "      <td>2125.50</td>\n",
       "      <td>360.79</td>\n",
       "      <td>Male</td>\n",
       "      <td>Thur</td>\n",
       "      <td>Lunch</td>\n",
       "      <td>1</td>\n",
       "      <td>1</td>\n",
       "      <td>0</td>\n",
       "      <td>4</td>\n",
       "      <td>1</td>\n",
       "    </tr>\n",
       "    <tr>\n",
       "      <th>1</th>\n",
       "      <td>2727.18</td>\n",
       "      <td>259.42</td>\n",
       "      <td>Female</td>\n",
       "      <td>Sun</td>\n",
       "      <td>Dinner</td>\n",
       "      <td>5</td>\n",
       "      <td>0</td>\n",
       "      <td>0</td>\n",
       "      <td>3</td>\n",
       "      <td>0</td>\n",
       "    </tr>\n",
       "    <tr>\n",
       "      <th>2</th>\n",
       "      <td>1066.02</td>\n",
       "      <td>274.68</td>\n",
       "      <td>Female</td>\n",
       "      <td>Thur</td>\n",
       "      <td>Dinner</td>\n",
       "      <td>4</td>\n",
       "      <td>0</td>\n",
       "      <td>1</td>\n",
       "      <td>4</td>\n",
       "      <td>0</td>\n",
       "    </tr>\n",
       "    <tr>\n",
       "      <th>3</th>\n",
       "      <td>3493.45</td>\n",
       "      <td>337.90</td>\n",
       "      <td>Female</td>\n",
       "      <td>Sun</td>\n",
       "      <td>Dinner</td>\n",
       "      <td>1</td>\n",
       "      <td>0</td>\n",
       "      <td>0</td>\n",
       "      <td>3</td>\n",
       "      <td>0</td>\n",
       "    </tr>\n",
       "    <tr>\n",
       "      <th>4</th>\n",
       "      <td>3470.56</td>\n",
       "      <td>567.89</td>\n",
       "      <td>Male</td>\n",
       "      <td>Sun</td>\n",
       "      <td>Lunch</td>\n",
       "      <td>6</td>\n",
       "      <td>1</td>\n",
       "      <td>1</td>\n",
       "      <td>3</td>\n",
       "      <td>1</td>\n",
       "    </tr>\n",
       "  </tbody>\n",
       "</table>\n",
       "</div>"
      ],
      "text/plain": [
       "   total_bill     tip  gender   day    time  size  gender_cat  smoker_cat  \\\n",
       "0     2125.50  360.79    Male  Thur   Lunch     1           1           0   \n",
       "1     2727.18  259.42  Female   Sun  Dinner     5           0           0   \n",
       "2     1066.02  274.68  Female  Thur  Dinner     4           0           1   \n",
       "3     3493.45  337.90  Female   Sun  Dinner     1           0           0   \n",
       "4     3470.56  567.89    Male   Sun   Lunch     6           1           1   \n",
       "\n",
       "   day_cat  time_cat  \n",
       "0        4         1  \n",
       "1        3         0  \n",
       "2        4         0  \n",
       "3        3         0  \n",
       "4        3         1  "
      ]
     },
     "execution_count": 11,
     "metadata": {},
     "output_type": "execute_result"
    }
   ],
   "source": [
    "cat_features = [\"gender\",\"day\",\"time\"]\n",
    "\n",
    "for cat_feature in cat_features:\n",
    "    df[f\"{cat_feature}_cat\"] = df[cat_feature].astype('category')\n",
    "    df[f\"{cat_feature}_cat\"] = df[f\"{cat_feature}_cat\"].cat.codes\n",
    "    \n",
    "    \n",
    "#Read more on Pandas get_dummies\n",
    "\n",
    "df.head()"
   ]
  },
  {
   "cell_type": "code",
   "execution_count": 12,
   "metadata": {},
   "outputs": [
    {
     "data": {
      "text/html": [
       "<div>\n",
       "<style scoped>\n",
       "    .dataframe tbody tr th:only-of-type {\n",
       "        vertical-align: middle;\n",
       "    }\n",
       "\n",
       "    .dataframe tbody tr th {\n",
       "        vertical-align: top;\n",
       "    }\n",
       "\n",
       "    .dataframe thead th {\n",
       "        text-align: right;\n",
       "    }\n",
       "</style>\n",
       "<table border=\"1\" class=\"dataframe\">\n",
       "  <thead>\n",
       "    <tr style=\"text-align: right;\">\n",
       "      <th></th>\n",
       "      <th>total_bill</th>\n",
       "      <th>tip</th>\n",
       "      <th>size</th>\n",
       "      <th>gender_cat</th>\n",
       "      <th>smoker_cat</th>\n",
       "      <th>day_cat</th>\n",
       "      <th>time_cat</th>\n",
       "    </tr>\n",
       "  </thead>\n",
       "  <tbody>\n",
       "    <tr>\n",
       "      <th>0</th>\n",
       "      <td>2125.50</td>\n",
       "      <td>360.79</td>\n",
       "      <td>1</td>\n",
       "      <td>1</td>\n",
       "      <td>0</td>\n",
       "      <td>4</td>\n",
       "      <td>1</td>\n",
       "    </tr>\n",
       "    <tr>\n",
       "      <th>1</th>\n",
       "      <td>2727.18</td>\n",
       "      <td>259.42</td>\n",
       "      <td>5</td>\n",
       "      <td>0</td>\n",
       "      <td>0</td>\n",
       "      <td>3</td>\n",
       "      <td>0</td>\n",
       "    </tr>\n",
       "    <tr>\n",
       "      <th>2</th>\n",
       "      <td>1066.02</td>\n",
       "      <td>274.68</td>\n",
       "      <td>4</td>\n",
       "      <td>0</td>\n",
       "      <td>1</td>\n",
       "      <td>4</td>\n",
       "      <td>0</td>\n",
       "    </tr>\n",
       "    <tr>\n",
       "      <th>3</th>\n",
       "      <td>3493.45</td>\n",
       "      <td>337.90</td>\n",
       "      <td>1</td>\n",
       "      <td>0</td>\n",
       "      <td>0</td>\n",
       "      <td>3</td>\n",
       "      <td>0</td>\n",
       "    </tr>\n",
       "    <tr>\n",
       "      <th>4</th>\n",
       "      <td>3470.56</td>\n",
       "      <td>567.89</td>\n",
       "      <td>6</td>\n",
       "      <td>1</td>\n",
       "      <td>1</td>\n",
       "      <td>3</td>\n",
       "      <td>1</td>\n",
       "    </tr>\n",
       "  </tbody>\n",
       "</table>\n",
       "</div>"
      ],
      "text/plain": [
       "   total_bill     tip  size  gender_cat  smoker_cat  day_cat  time_cat\n",
       "0     2125.50  360.79     1           1           0        4         1\n",
       "1     2727.18  259.42     5           0           0        3         0\n",
       "2     1066.02  274.68     4           0           1        4         0\n",
       "3     3493.45  337.90     1           0           0        3         0\n",
       "4     3470.56  567.89     6           1           1        3         1"
      ]
     },
     "execution_count": 12,
     "metadata": {},
     "output_type": "execute_result"
    }
   ],
   "source": [
    "df.drop([\"gender\",\"day\",\"time\"], axis=1, inplace=True)\n",
    "df.head()"
   ]
  },
  {
   "cell_type": "markdown",
   "metadata": {
    "id": "ZWUyBq7W2tp3"
   },
   "source": [
    "### Step#4 Perform data segmentation"
   ]
  },
  {
   "cell_type": "code",
   "execution_count": 13,
   "metadata": {},
   "outputs": [],
   "source": [
    "y = df[\"total_bill\"] # Target\n",
    "X = df.drop(\"total_bill\", axis=1)"
   ]
  },
  {
   "cell_type": "code",
   "execution_count": 14,
   "metadata": {
    "id": "F_aDJ8YYKeLX"
   },
   "outputs": [],
   "source": [
    "X_train, X_test, y_train, y_test = train_test_split(X, y, test_size=0.3,random_state=42)"
   ]
  },
  {
   "cell_type": "code",
   "execution_count": 15,
   "metadata": {},
   "outputs": [
    {
     "data": {
      "text/html": [
       "<div>\n",
       "<style scoped>\n",
       "    .dataframe tbody tr th:only-of-type {\n",
       "        vertical-align: middle;\n",
       "    }\n",
       "\n",
       "    .dataframe tbody tr th {\n",
       "        vertical-align: top;\n",
       "    }\n",
       "\n",
       "    .dataframe thead th {\n",
       "        text-align: right;\n",
       "    }\n",
       "</style>\n",
       "<table border=\"1\" class=\"dataframe\">\n",
       "  <thead>\n",
       "    <tr style=\"text-align: right;\">\n",
       "      <th></th>\n",
       "      <th>total_bill</th>\n",
       "      <th>tip</th>\n",
       "      <th>size</th>\n",
       "      <th>gender_cat</th>\n",
       "      <th>smoker_cat</th>\n",
       "      <th>day_cat</th>\n",
       "      <th>time_cat</th>\n",
       "    </tr>\n",
       "  </thead>\n",
       "  <tbody>\n",
       "    <tr>\n",
       "      <th>0</th>\n",
       "      <td>2125.50</td>\n",
       "      <td>360.79</td>\n",
       "      <td>1</td>\n",
       "      <td>1</td>\n",
       "      <td>0</td>\n",
       "      <td>4</td>\n",
       "      <td>1</td>\n",
       "    </tr>\n",
       "    <tr>\n",
       "      <th>1</th>\n",
       "      <td>2727.18</td>\n",
       "      <td>259.42</td>\n",
       "      <td>5</td>\n",
       "      <td>0</td>\n",
       "      <td>0</td>\n",
       "      <td>3</td>\n",
       "      <td>0</td>\n",
       "    </tr>\n",
       "    <tr>\n",
       "      <th>2</th>\n",
       "      <td>1066.02</td>\n",
       "      <td>274.68</td>\n",
       "      <td>4</td>\n",
       "      <td>0</td>\n",
       "      <td>1</td>\n",
       "      <td>4</td>\n",
       "      <td>0</td>\n",
       "    </tr>\n",
       "    <tr>\n",
       "      <th>3</th>\n",
       "      <td>3493.45</td>\n",
       "      <td>337.90</td>\n",
       "      <td>1</td>\n",
       "      <td>0</td>\n",
       "      <td>0</td>\n",
       "      <td>3</td>\n",
       "      <td>0</td>\n",
       "    </tr>\n",
       "    <tr>\n",
       "      <th>4</th>\n",
       "      <td>3470.56</td>\n",
       "      <td>567.89</td>\n",
       "      <td>6</td>\n",
       "      <td>1</td>\n",
       "      <td>1</td>\n",
       "      <td>3</td>\n",
       "      <td>1</td>\n",
       "    </tr>\n",
       "  </tbody>\n",
       "</table>\n",
       "</div>"
      ],
      "text/plain": [
       "   total_bill     tip  size  gender_cat  smoker_cat  day_cat  time_cat\n",
       "0     2125.50  360.79     1           1           0        4         1\n",
       "1     2727.18  259.42     5           0           0        3         0\n",
       "2     1066.02  274.68     4           0           1        4         0\n",
       "3     3493.45  337.90     1           0           0        3         0\n",
       "4     3470.56  567.89     6           1           1        3         1"
      ]
     },
     "execution_count": 15,
     "metadata": {},
     "output_type": "execute_result"
    }
   ],
   "source": [
    "df.head()"
   ]
  },
  {
   "cell_type": "markdown",
   "metadata": {
    "id": "Jl-Ur2za3DXM"
   },
   "source": [
    "### Step#5 Load your data into the Linear Regression model i.e Train your model"
   ]
  },
  {
   "cell_type": "code",
   "execution_count": 16,
   "metadata": {
    "id": "wkfBg2AAMNvc"
   },
   "outputs": [
    {
     "data": {
      "text/plain": [
       "LinearRegression()"
      ]
     },
     "execution_count": 16,
     "metadata": {},
     "output_type": "execute_result"
    }
   ],
   "source": [
    "from sklearn.linear_model import LinearRegression\n",
    "\n",
    "reg = LinearRegression()\n",
    "reg.fit(X_train, y_train)"
   ]
  },
  {
   "cell_type": "markdown",
   "metadata": {
    "id": "iORf2_Xc3ZDW"
   },
   "source": [
    "## Step#6 Make predictions"
   ]
  },
  {
   "cell_type": "code",
   "execution_count": 17,
   "metadata": {
    "id": "wn0-ljQo3cUh"
   },
   "outputs": [
    {
     "data": {
      "text/plain": [
       "array([2209.49152471, 2338.86633796, 2353.88409531, 2297.0005235 ,\n",
       "       2516.43195947, 2096.20799415, 2586.32686334, 2215.17394684,\n",
       "       2776.22622909, 1764.29682044, 1890.0484969 , 2597.79360064,\n",
       "       1655.62880058, 2243.48408775, 1843.16259857, 2243.94737558,\n",
       "       2274.7537355 , 1845.41859084, 2221.19010034, 2137.25628401,\n",
       "       2542.3275703 , 1957.97297693, 2166.4883013 , 2789.84273462,\n",
       "       2436.93785125, 2038.83425592, 2050.20108768, 2450.1912174 ,\n",
       "       1851.30045794, 2127.75661909, 2234.09283644, 2159.63879306,\n",
       "       1696.8049431 , 2825.61887046, 1889.31401346, 2085.3422795 ,\n",
       "       2611.19339202, 2237.98454163, 1657.33111112, 2413.53502118,\n",
       "       2594.28309539, 1906.38751875, 2254.3192325 , 2230.1160763 ,\n",
       "       2579.10210313, 2187.76867058, 2053.38899459, 2151.00091136,\n",
       "       2358.70165191, 2412.47860534, 2281.35767804, 2322.04655048,\n",
       "       1931.66367585, 2239.54884819, 2636.75835376, 1986.69710351,\n",
       "       2084.22159342, 2251.61007744, 2521.03731885, 2190.91377977,\n",
       "       2087.5263352 , 1654.88446125, 2479.65096663, 2201.49475161,\n",
       "       1982.52968578, 1894.43488546, 2143.10600506, 2315.37250497,\n",
       "       2295.69235111, 2107.77762234, 2337.19922951, 2005.9260821 ,\n",
       "       1816.77880882, 2410.44466618, 1951.98073497, 1814.60380966,\n",
       "       1731.17644941, 2107.28266982, 1729.56833934, 1394.83635857,\n",
       "       2024.02641286, 2027.06420323, 1905.17582975, 2301.93860629,\n",
       "       2268.70557746, 2492.79801974, 1863.447993  , 2514.52053401,\n",
       "       1839.42100991, 2466.66714843, 2298.8276044 , 2226.31439449,\n",
       "       2145.7858389 , 2406.24558377, 1995.2266584 , 2382.67707616,\n",
       "       2161.51645107, 2251.47209973, 1669.95478323, 2294.72705343,\n",
       "       2652.24909516, 2472.37690425, 1983.93203237, 2836.63778395,\n",
       "       1883.75745649, 1918.3665062 , 2130.81396157, 1921.32656592,\n",
       "       2497.75022887, 2893.68669343, 1833.75378266, 1735.09756262,\n",
       "       2081.53074179, 1738.10804554, 2428.67864367, 2027.29531288,\n",
       "       2492.57227531, 2179.91332361, 2403.08525345, 2191.06054487,\n",
       "       2368.66994363, 1985.22471448, 1910.65447591, 2374.34791952,\n",
       "       2214.68234577, 1919.71845585, 2147.47829353, 2021.0666223 ,\n",
       "       2153.20324422, 2098.94249539, 2374.33580695, 2184.82508068,\n",
       "       1920.65010133, 1777.0127055 , 2355.04749012, 2187.98428996,\n",
       "       1980.92834931, 1875.42795999, 2605.4563025 , 2049.56840034,\n",
       "       2178.65881063, 1627.41683516, 1940.55328784, 1961.88423424,\n",
       "       2605.98167101, 2641.01011606, 2973.48400178, 2212.2630296 ,\n",
       "       2382.92447547, 2678.53207052, 1684.05638538, 2059.89031541,\n",
       "       1914.39072559, 2241.03853266, 2147.55928664, 1953.71779248,\n",
       "       2236.96113831, 2244.29529385, 2069.96446506, 1957.44418627,\n",
       "       1941.23753401, 1973.89488637, 2213.87113967, 1739.86825967,\n",
       "       2031.15941523, 1738.97715524, 2000.54469244, 2304.39401727,\n",
       "       2022.63727362, 2370.77273706, 1946.90674878, 2076.05624645,\n",
       "       2432.0348553 , 1832.86267823, 2476.44688532, 2577.89248844,\n",
       "       2123.79914191, 2092.34389181, 2455.2122808 , 2253.01443781,\n",
       "       2116.33485078, 1957.44418627, 2212.94837055, 2171.62779032,\n",
       "       1952.63196863, 2255.33955352, 1843.16259857, 1903.36394372,\n",
       "       2694.66761182, 2302.03171197, 2409.58766905, 1907.33871634,\n",
       "       2025.44965941, 2196.74296699, 2204.49200093, 2148.35728539,\n",
       "       2043.37384332, 2748.02069742, 2593.76724292, 1999.26622347,\n",
       "       2343.43325906, 1882.89060346, 1963.00074325, 2274.19526767,\n",
       "       2266.17360349, 2090.0255497 , 2328.67275691, 2379.5539617 ,\n",
       "       1970.53224099, 2019.45741745, 1893.83160614, 2288.6535492 ,\n",
       "       2027.6300238 , 1795.72165455, 2658.14939332, 2191.42060197,\n",
       "       2216.12404965, 2006.52933517, 2037.83248121, 2285.82841117,\n",
       "       2212.65716774, 2226.44025963, 2130.21946962, 2202.53905489])"
      ]
     },
     "execution_count": 17,
     "metadata": {},
     "output_type": "execute_result"
    }
   ],
   "source": [
    "reg.predict(X_test) ## Predict"
   ]
  },
  {
   "cell_type": "markdown",
   "metadata": {
    "id": "3hZt1B9ONaFx"
   },
   "source": [
    "## Step#7 Evaluate your model"
   ]
  },
  {
   "cell_type": "code",
   "execution_count": 18,
   "metadata": {
    "id": "BlNjeuI5NQr4"
   },
   "outputs": [
    {
     "name": "stdout",
     "output_type": "stream",
     "text": [
      "MAE 790.9952445427199\n"
     ]
    }
   ],
   "source": [
    "from sklearn.svm import SVR\n",
    "from sklearn.metrics import mean_absolute_error\n",
    "\n",
    "sv_reg = SVR()\n",
    "sv_reg.fit(X_train, y_train)\n",
    "y_pred = sv_reg.predict(X_test)\n",
    "print(\"MAE\",mean_absolute_error(y_test,y_pred))"
   ]
  },
  {
   "cell_type": "code",
   "execution_count": 19,
   "metadata": {},
   "outputs": [
    {
     "name": "stdout",
     "output_type": "stream",
     "text": [
      "MAE 776.4950905307794\n"
     ]
    }
   ],
   "source": [
    "from sklearn.metrics import mean_absolute_error\n",
    "\n",
    "# we are using mean_absolute_error because\n",
    "# this is a regression model\n",
    "\n",
    "y_pred = reg.predict(X_test)\n",
    "\n",
    "print(\"MAE\",mean_absolute_error(y_test,y_pred))"
   ]
  },
  {
   "cell_type": "code",
   "execution_count": 20,
   "metadata": {},
   "outputs": [
    {
     "name": "stdout",
     "output_type": "stream",
     "text": [
      "MAE 790.9952445427199\n"
     ]
    }
   ],
   "source": [
    "from sklearn.svm import SVR\n",
    "\n",
    "sv_reg = SVR()\n",
    "sv_reg.fit(X_train, y_train)\n",
    "y_pred = sv_reg.predict(X_test)\n",
    "print(\"MAE\",mean_absolute_error(y_test,y_pred))"
   ]
  },
  {
   "cell_type": "code",
   "execution_count": 21,
   "metadata": {
    "scrolled": true
   },
   "outputs": [
    {
     "data": {
      "text/plain": [
       "array([2074.03251978, 2084.33781287, 2074.03399232, 2064.896882  ,\n",
       "       2049.23348551, 2057.55095116, 2078.2248827 , 2070.97155361,\n",
       "       2072.6760434 , 2032.43896503, 2038.18329594, 2084.7311422 ,\n",
       "       2029.16590156, 2065.27059972, 2038.18101774, 2061.26285714,\n",
       "       2084.86962946, 2037.21964753, 2030.24650937, 2065.07848822])"
      ]
     },
     "execution_count": 21,
     "metadata": {},
     "output_type": "execute_result"
    }
   ],
   "source": [
    "y_pred[:20]"
   ]
  },
  {
   "cell_type": "code",
   "execution_count": 22,
   "metadata": {},
   "outputs": [
    {
     "data": {
      "text/plain": [
       "609    1559.79\n",
       "539    3408.43\n",
       "694    1807.22\n",
       "350    2565.86\n",
       "174     718.31\n",
       "81     2122.23\n",
       "355    1730.92\n",
       "424    3547.95\n",
       "523    4296.78\n",
       "617    1160.85\n",
       "662    1766.89\n",
       "367     445.81\n",
       "275    1390.84\n",
       "101     317.19\n",
       "526    1457.33\n",
       "382    3576.29\n",
       "300     240.89\n",
       "250    1370.13\n",
       "165    2182.18\n",
       "603    2443.78\n",
       "Name: total_bill, dtype: float64"
      ]
     },
     "execution_count": 22,
     "metadata": {},
     "output_type": "execute_result"
    }
   ],
   "source": [
    "y_test[0:20]"
   ]
  },
  {
   "cell_type": "code",
   "execution_count": 23,
   "metadata": {},
   "outputs": [],
   "source": [
    "y_train = y_train.to_numpy(dtype=\"int\")\n",
    "y_test = y_test.to_numpy(dtype=\"int\")"
   ]
  },
  {
   "cell_type": "code",
   "execution_count": 24,
   "metadata": {},
   "outputs": [
    {
     "data": {
      "text/plain": [
       "RandomForestClassifier(max_features='sqrt')"
      ]
     },
     "execution_count": 24,
     "metadata": {},
     "output_type": "execute_result"
    }
   ],
   "source": [
    "#Import Random Forest Model\n",
    "from sklearn.ensemble import RandomForestClassifier\n",
    "\n",
    "#create the model with 100 trees\n",
    "model = RandomForestClassifier(n_estimators=100,\n",
    "                              bootstrap = True,\n",
    "                              max_features = 'sqrt')\n",
    "#Fit on training data\n",
    "model.fit(X_train, y_train)"
   ]
  },
  {
   "cell_type": "code",
   "execution_count": 25,
   "metadata": {},
   "outputs": [],
   "source": [
    "y_pred_rcf=model.predict(X_test)"
   ]
  },
  {
   "cell_type": "code",
   "execution_count": 26,
   "metadata": {},
   "outputs": [
    {
     "name": "stdout",
     "output_type": "stream",
     "text": [
      "MAE 967.5892857142857\n"
     ]
    }
   ],
   "source": [
    "print(\"MAE\",mean_absolute_error(y_test,y_pred_rcf))"
   ]
  },
  {
   "cell_type": "code",
   "execution_count": 27,
   "metadata": {},
   "outputs": [
    {
     "data": {
      "text/plain": [
       "array([1559, 3408, 1807, 2565,  718, 2122, 1730, 3547, 4296, 1160, 1766,\n",
       "        445, 1390,  317, 1457, 3576,  240, 1370, 2182, 2443, 2510, 3091,\n",
       "       2617, 3207, 1091, 2235, 2985, 2241,  737, 1947, 3694, 2463, 2878,\n",
       "       1370, 1773, 1582, 2157,   58,  513, 3794, 1085, 2415, 2170, 3724,\n",
       "       3367, 3641, 1950, 1923, 2572, 2063])"
      ]
     },
     "execution_count": 27,
     "metadata": {},
     "output_type": "execute_result"
    }
   ],
   "source": [
    "y_test[:50]"
   ]
  },
  {
   "cell_type": "code",
   "execution_count": null,
   "metadata": {},
   "outputs": [],
   "source": []
  },
  {
   "cell_type": "code",
   "execution_count": 28,
   "metadata": {},
   "outputs": [
    {
     "data": {
      "image/png": "[encoded data removed]",
      "text/plain": [
       "<Figure size 720x720 with 1 Axes>"
      ]
     },
     "metadata": {
      "needs_background": "light"
     },
     "output_type": "display_data"
    }
   ],
   "source": [
    "plt.figure(figsize=(10,10))\n",
    "plt.scatter(y_test, y_pred_rcf, c='crimson')\n",
    "\n",
    "p1 = max(max(y_pred_rcf), max(y_test))\n",
    "p2 = min(min(y_pred_rcf), min(y_test))\n",
    "plt.plot([p1, p2],[p1, p2], 'b-')\n",
    "plt.xlabel('True Values', fontsize=15)\n",
    "plt.ylabel('Predictions', fontsize=15)\n",
    "plt.axis('equal')\n",
    "plt.show()"
   ]
  },
  {
   "cell_type": "code",
   "execution_count": 29,
   "metadata": {},
   "outputs": [
    {
     "name": "stdout",
     "output_type": "stream",
     "text": [
      "Requirement already satisfied: xgboost in c:\\users\\user\\anaconda3\\lib\\site-packages (1.6.0)\n",
      "Requirement already satisfied: numpy in c:\\users\\user\\anaconda3\\lib\\site-packages (from xgboost) (1.20.3)\n",
      "Requirement already satisfied: scipy in c:\\users\\user\\anaconda3\\lib\\site-packages (from xgboost) (1.7.1)\n"
     ]
    }
   ],
   "source": [
    "!pip install xgboost"
   ]
  },
  {
   "cell_type": "code",
   "execution_count": 30,
   "metadata": {
    "id": "Kzbq1tVZOEcV"
   },
   "outputs": [],
   "source": [
    "import xgboost as xgb"
   ]
  },
  {
   "cell_type": "code",
   "execution_count": 31,
   "metadata": {},
   "outputs": [],
   "source": [
    "train_dmatrix = xgb.DMatrix(data=X_train, label=y_train)"
   ]
  },
  {
   "cell_type": "code",
   "execution_count": 32,
   "metadata": {},
   "outputs": [],
   "source": [
    "test_dmatrix = xgb.DMatrix(data=X_test, label=y_test)"
   ]
  },
  {
   "cell_type": "code",
   "execution_count": 33,
   "metadata": {},
   "outputs": [
    {
     "name": "stdout",
     "output_type": "stream",
     "text": [
      "[13:23:20] WARNING: C:/Users/Administrator/workspace/xgboost-win64_release_1.6.0/src/objective/regression_obj.cu:203: reg:linear is now deprecated in favor of reg:squarederror.\n",
      "[13:23:20] WARNING: C:/Users/Administrator/workspace/xgboost-win64_release_1.6.0/src/learner.cc:627: \n",
      "Parameters: { \"min_child_size\" } might not be used.\n",
      "\n",
      "  This could be a false alarm, with some parameters getting used by language bindings but\n",
      "  then being mistakenly passed down to XGBoost core, or some parameter actually being used\n",
      "  but getting flagged wrongly here. Please open an issue if you find any such cases.\n",
      "\n",
      "\n"
     ]
    }
   ],
   "source": [
    "#xgb parameters\n",
    "xgb_params = {\n",
    "    \"eta\":0.3,\n",
    "    \"max_depth\":6,\n",
    "    \"min_child_size\":1,\n",
    "    \n",
    "    \"objective\":\"reg:linear\",\n",
    "    \"seed\":42\n",
    "}\n",
    "xgb_model = xgb.train(xgb_params, train_dmatrix,num_boost_round=10)\n",
    "    "
   ]
  },
  {
   "cell_type": "code",
   "execution_count": 34,
   "metadata": {},
   "outputs": [],
   "source": [
    "xgb_pred = xgb_model.predict(test_dmatrix)"
   ]
  },
  {
   "cell_type": "code",
   "execution_count": 35,
   "metadata": {},
   "outputs": [
    {
     "data": {
      "text/plain": [
       "array([2150.926 , 3020.9995, 2501.7517, 2027.6615, 2228.9397, 2164.2554,\n",
       "       2070.8699, 2488.4846, 2639.971 , 1418.461 , 1627.4829, 2771.4392,\n",
       "       2238.5686, 1959.7955, 1465.282 , 2009.6157, 1271.0565, 1712.0232,\n",
       "       2226.4446, 2172.7927, 1666.1145, 2324.4019, 1911.8828, 2804.055 ,\n",
       "       2330.5315, 2331.1   , 1983.4437, 2082.5933, 1783.4895, 2139.1646,\n",
       "       2158.5872, 2293.2866, 1475.8961, 2099.104 , 1730.5216, 1975.4252,\n",
       "       1828.606 , 2290.9724, 1184.2802, 2375.3718, 1991.7408, 2017.9075,\n",
       "       2175.4749, 2275.5916, 2359.0137, 1776.1581, 1460.1902, 2584.5137,\n",
       "       1985.0085, 1194.7036, 1398.4569, 2067.6047, 1517.6252, 1718.488 ,\n",
       "       2322.82  , 1838.943 , 1169.9434, 2278.6775, 2341.409 , 2696.721 ,\n",
       "       1817.3385, 1729.7739, 2059.5215, 2367.7136, 2147.706 , 1686.8405,\n",
       "       2139.1646, 2293.6707, 2007.4242, 2447.081 , 2085.0054, 2178.3762,\n",
       "       1779.7366, 1941.4883, 2149.517 , 1779.7366, 1702.8488, 2826.5273,\n",
       "       1481.2472, 1984.0403, 2182.7446, 1398.6141, 1920.3962, 1823.9071,\n",
       "       2492.168 , 2497.2654, 1998.8201, 2175.8752, 1299.058 , 2589.6506,\n",
       "       2026.2478, 2330.0002, 2441.8545, 2175.8752, 1885.9025, 2063.7314,\n",
       "       2004.5521, 2175.4749, 1918.7263, 2419.9878, 2366.8806, 2800.2607,\n",
       "       1470.8041, 2803.553 , 1768.3868, 1289.036 , 1759.8833, 1877.1257,\n",
       "       2197.0261, 2555.5728, 1407.8469, 1569.369 , 2142.1506, 1527.0637,\n",
       "       2627.2854, 2512.1646, 2019.2604, 1842.4767, 1984.9644, 1870.1912,\n",
       "       1855.1265, 1898.0076, 1407.8469, 1758.6632, 2400.227 , 1558.9249,\n",
       "       2696.721 , 2544.8467, 1821.1058, 2403.8162, 2171.727 , 2326.3591,\n",
       "       2320.1448, 1885.0061, 2395.0596, 2007.4242, 2130.0369, 1784.6201,\n",
       "       2546.361 , 1959.9268, 1190.3488, 2049.8218, 1994.4159, 1902.0955,\n",
       "       2513.5583, 2195.8914, 4268.331 , 2375.0027, 2726.8025, 2319.9258,\n",
       "       1666.9878, 2379.3804, 2091.6982, 2158.5872, 1848.455 , 1877.1257,\n",
       "       1932.2543, 2501.529 , 2001.2812, 1891.7697, 1748.7806, 1968.1304,\n",
       "       1867.3923, 1647.3857, 2267.4478, 1538.6823, 1731.759 , 2009.4999,\n",
       "       2459.6306, 2360.3254, 2171.0974, 1460.1902, 2413.174 , 1418.461 ,\n",
       "       2175.8752, 2452.918 , 2334.02  , 2054.7437, 1339.8937, 2526.9922,\n",
       "       2035.7462, 1891.7697, 2163.2004, 2384.299 , 2219.2102, 2501.529 ,\n",
       "       1465.282 , 2354.7515, 2490.1084, 2417.8525, 2319.2378, 2167.3313,\n",
       "       2172.7927, 2488.4846, 2550.9307, 2030.3589, 1958.8422, 1741.096 ,\n",
       "       2782.0522, 2176.6594, 2392.3145, 1983.6168, 1891.7697, 2233.2202,\n",
       "       2009.6157, 2172.7927, 2313.1697, 2351.3928, 2696.721 , 1961.7507,\n",
       "       2004.6677, 2392.3145, 2123.3008, 2334.7878, 2891.5356, 1608.0773,\n",
       "       1932.2543, 2063.0813, 1691.3456, 2401.0378, 1961.7843, 2700.0774,\n",
       "       2159.0425, 2375.0027], dtype=float32)"
      ]
     },
     "execution_count": 35,
     "metadata": {},
     "output_type": "execute_result"
    }
   ],
   "source": [
    "xgb_pred"
   ]
  },
  {
   "cell_type": "code",
   "execution_count": 39,
   "metadata": {},
   "outputs": [
    {
     "name": "stdout",
     "output_type": "stream",
     "text": [
      "770.5428074428013\n"
     ]
    }
   ],
   "source": [
    "print(mean_absolute_error(y_test,xgb_pred))"
   ]
  },
  {
   "cell_type": "code",
   "execution_count": null,
   "metadata": {},
   "outputs": [],
   "source": []
  },
  {
   "cell_type": "code",
   "execution_count": null,
   "metadata": {},
   "outputs": [],
   "source": []
  },
  {
   "cell_type": "code",
   "execution_count": null,
   "metadata": {},
   "outputs": [],
   "source": []
  },
  {
   "cell_type": "markdown",
   "metadata": {
    "id": "i77cdwQsOJqP"
   },
   "source": [
    "# Other Machine Learning Algorithms"
   ]
  },
  {
   "cell_type": "code",
   "execution_count": 37,
   "metadata": {
    "id": "ZRz-Dt6wOstG"
   },
   "outputs": [],
   "source": [
    " # TODO: Try another Machine Learning Algorithms"
   ]
  },
  {
   "cell_type": "raw",
   "metadata": {},
   "source": []
  },
  {
   "cell_type": "code",
   "execution_count": null,
   "metadata": {
    "id": "URiAwuDtOlnV"
   },
   "outputs": [],
   "source": []
  }
 ],
 "metadata": {
  "colab": {
   "collapsed_sections": [],
   "name": "AI Invasion - Day 4.ipynb",
   "provenance": []
  },
  "kernelspec": {
   "display_name": "Python 3 (ipykernel)",
   "language": "python",
   "name": "python3"
  },
  "language_info": {
   "codemirror_mode": {
    "name": "ipython",
    "version": 3
   },
   "file_extension": ".py",
   "mimetype": "text/x-python",
   "name": "python",
   "nbconvert_exporter": "python",
   "pygments_lexer": "ipython3",
   "version": "3.9.7"
  }
 },
 "nbformat": 4,
 "nbformat_minor": 1
}
